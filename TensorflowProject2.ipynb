{
  "nbformat": 4,
  "nbformat_minor": 0,
  "metadata": {
    "colab": {
      "name": "TensorflowProject2.ipynb",
      "provenance": [],
      "collapsed_sections": [],
      "authorship_tag": "ABX9TyNbUHWzppqF/IhRns0c5FE2",
      "include_colab_link": true
    },
    "kernelspec": {
      "name": "python3",
      "display_name": "Python 3"
    },
    "language_info": {
      "name": "python"
    }
  },
  "cells": [
    {
      "cell_type": "markdown",
      "metadata": {
        "id": "view-in-github",
        "colab_type": "text"
      },
      "source": [
        "<a href=\"https://colab.research.google.com/github/LeeJungtae/TensorflowProject1/blob/main/TensorflowProject2.ipynb\" target=\"_parent\"><img src=\"https://colab.research.google.com/assets/colab-badge.svg\" alt=\"Open In Colab\"/></a>"
      ]
    },
    {
      "cell_type": "markdown",
      "metadata": {
        "id": "rA_XCuSO4SMk"
      },
      "source": [
        "운동화나 셔츠 등의 옷 이미지들을 분류하는 신경망 모델 훈련."
      ]
    },
    {
      "cell_type": "code",
      "metadata": {
        "colab": {
          "base_uri": "https://localhost:8080/"
        },
        "id": "lyZ594D54LsX",
        "outputId": "56ab85c2-92fe-4d96-d6e0-0067d0b61282"
      },
      "source": [
        "# tensorflow와 tf.keras 임포트\n",
        "import tensorflow as tf\n",
        "from tensorflow import keras\n",
        "\n",
        "# 헬퍼(Helper) 라이브러리 임포트\n",
        "import numpy as np\n",
        "import matplotlib.pyplot as plt\n",
        "\n",
        "# 현재 텐서플로우 버전\n",
        "print(tf.__version__)"
      ],
      "execution_count": 1,
      "outputs": [
        {
          "output_type": "stream",
          "text": [
            "2.4.1\n"
          ],
          "name": "stdout"
        }
      ]
    },
    {
      "cell_type": "markdown",
      "metadata": {
        "id": "P02TZHb55Noe"
      },
      "source": [
        "10개의 범주(category)와 70,000개의 흑백이미지로 구성된\n",
        "패션 MNIST 데이터셋 사용.\n",
        "\n",
        "네트워크를 훈련하는데 60,000개의 이미지 사용.\\\n",
        "그 다음 네트워크가 얼마나 정확하게 이미지를 분류하는지 10,000개의 이미지로 평가."
      ]
    },
    {
      "cell_type": "code",
      "metadata": {
        "colab": {
          "base_uri": "https://localhost:8080/"
        },
        "id": "vM3QFdB25pKf",
        "outputId": "4b1b0ef0-aeb2-4fd5-c023-1d7153767ebc"
      },
      "source": [
        "fashion_mnist = keras.datasets.fashion_mnist\n",
        "\n",
        "(train_images, train_labels), (test_images, test_labels) = fashion_mnist.load_data()"
      ],
      "execution_count": 4,
      "outputs": [
        {
          "output_type": "stream",
          "text": [
            "Downloading data from https://storage.googleapis.com/tensorflow/tf-keras-datasets/train-labels-idx1-ubyte.gz\n",
            "32768/29515 [=================================] - 0s 0us/step\n",
            "Downloading data from https://storage.googleapis.com/tensorflow/tf-keras-datasets/train-images-idx3-ubyte.gz\n",
            "26427392/26421880 [==============================] - 0s 0us/step\n",
            "Downloading data from https://storage.googleapis.com/tensorflow/tf-keras-datasets/t10k-labels-idx1-ubyte.gz\n",
            "8192/5148 [===============================================] - 0s 0us/step\n",
            "Downloading data from https://storage.googleapis.com/tensorflow/tf-keras-datasets/t10k-images-idx3-ubyte.gz\n",
            "4423680/4422102 [==============================] - 0s 0us/step\n"
          ],
          "name": "stdout"
        }
      ]
    },
    {
      "cell_type": "markdown",
      "metadata": {
        "id": "4N9QskBB546J"
      },
      "source": [
        "load_data() 함수 호출 시 네 개의 NumPy(넘파이) 배열 반환\n",
        "\n",
        "train_images와 train_labels 배열은 모델 학습에 사용되는 '훈련 세트'.\\\n",
        "test_images와 test_labels 배열은 모델 테스트에 사용되는 '테스트 세트'.\n",
        "\n",
        "이미지는 28x28 크기의 넘파이 배열이며 픽셀 값은 0과 255 사이.\\\n",
        "레이블은 0에서 9까지의 정수 배열."
      ]
    },
    {
      "cell_type": "code",
      "metadata": {
        "id": "kGG1ZLgM6O2i"
      },
      "source": [
        "class_names = [\n",
        "               \"T-shirt/top\",\n",
        "               \"Trouser\",\n",
        "               \"Pullover\",\n",
        "               \"Dress\",\n",
        "               \"Coat\",\n",
        "               \"Sandal\",\n",
        "               \"Shirt\",\n",
        "               \"Sneaker\",\n",
        "               \"Bag\",\n",
        "               \"Ankle boot\"\n",
        "]"
      ],
      "execution_count": 5,
      "outputs": []
    },
    {
      "cell_type": "markdown",
      "metadata": {
        "id": "q85H_O736s-D"
      },
      "source": [
        "훈련 세트에는 60,000개의 이미지가 있으며, 각 이미지는 28x28 픽셀로 표현됨."
      ]
    },
    {
      "cell_type": "code",
      "metadata": {
        "colab": {
          "base_uri": "https://localhost:8080/"
        },
        "id": "DGuQZOcB61Q5",
        "outputId": "7a060a28-62e1-4f69-f587-ba626bc1ca44"
      },
      "source": [
        "train_images.shape"
      ],
      "execution_count": 6,
      "outputs": [
        {
          "output_type": "execute_result",
          "data": {
            "text/plain": [
              "(60000, 28, 28)"
            ]
          },
          "metadata": {
            "tags": []
          },
          "execution_count": 6
        }
      ]
    },
    {
      "cell_type": "markdown",
      "metadata": {
        "id": "FsYiSMYe7CzO"
      },
      "source": [
        "훈련 세트에 있는 레이블도 60,000개."
      ]
    },
    {
      "cell_type": "code",
      "metadata": {
        "colab": {
          "base_uri": "https://localhost:8080/"
        },
        "id": "6u8Q3dNr7GRD",
        "outputId": "4dcfef8d-2ea7-4288-8997-4e537d3a4acf"
      },
      "source": [
        "len(train_labels)"
      ],
      "execution_count": 7,
      "outputs": [
        {
          "output_type": "execute_result",
          "data": {
            "text/plain": [
              "60000"
            ]
          },
          "metadata": {
            "tags": []
          },
          "execution_count": 7
        }
      ]
    },
    {
      "cell_type": "markdown",
      "metadata": {
        "id": "dks4hXSG7KCd"
      },
      "source": [
        "각 레이블은 0과 9 사이의 정수입니다."
      ]
    },
    {
      "cell_type": "code",
      "metadata": {
        "colab": {
          "base_uri": "https://localhost:8080/"
        },
        "id": "hCJ_YaZh7NJ3",
        "outputId": "5e2c48cd-6396-4dd3-84f9-2d96e2280dc4"
      },
      "source": [
        "train_labels"
      ],
      "execution_count": 8,
      "outputs": [
        {
          "output_type": "execute_result",
          "data": {
            "text/plain": [
              "array([9, 0, 0, ..., 3, 0, 5], dtype=uint8)"
            ]
          },
          "metadata": {
            "tags": []
          },
          "execution_count": 8
        }
      ]
    },
    {
      "cell_type": "markdown",
      "metadata": {
        "id": "E2zmsbrr7QD_"
      },
      "source": [
        "테스트 세트는 10,000개의 이미지가 있으며 각각 28x28 픽셀로 표현."
      ]
    },
    {
      "cell_type": "code",
      "metadata": {
        "colab": {
          "base_uri": "https://localhost:8080/"
        },
        "id": "kxqzLelU7U9d",
        "outputId": "72a89d19-05c1-4e40-ae7d-2977eefd27c6"
      },
      "source": [
        "test_images.shape"
      ],
      "execution_count": 9,
      "outputs": [
        {
          "output_type": "execute_result",
          "data": {
            "text/plain": [
              "(10000, 28, 28)"
            ]
          },
          "metadata": {
            "tags": []
          },
          "execution_count": 9
        }
      ]
    },
    {
      "cell_type": "markdown",
      "metadata": {
        "id": "Jy-kMZR-7YX1"
      },
      "source": [
        "테스트 세트 또한 10,000개의 레이블을 포함하고 있음."
      ]
    },
    {
      "cell_type": "code",
      "metadata": {
        "colab": {
          "base_uri": "https://localhost:8080/"
        },
        "id": "hVWLObRD7cOy",
        "outputId": "4bc0785b-ed9e-4c37-9680-e77ee21e6c26"
      },
      "source": [
        "len(test_labels)"
      ],
      "execution_count": 10,
      "outputs": [
        {
          "output_type": "execute_result",
          "data": {
            "text/plain": [
              "10000"
            ]
          },
          "metadata": {
            "tags": []
          },
          "execution_count": 10
        }
      ]
    },
    {
      "cell_type": "markdown",
      "metadata": {
        "id": "hHKpS68L7jEl"
      },
      "source": [
        "네트워크 훈련 전, 데이터 전처리 필요.\\\n",
        "훈련 세트의 첫 번째 이미지의 픽셀 값은 0~255 사이."
      ]
    },
    {
      "cell_type": "code",
      "metadata": {
        "colab": {
          "base_uri": "https://localhost:8080/",
          "height": 265
        },
        "id": "C0b-lGqx7qp2",
        "outputId": "15656a54-b661-4fe0-ad50-5a5946159674"
      },
      "source": [
        "plt.figure()\n",
        "plt.imshow(train_images[0])\n",
        "plt.colorbar()\n",
        "plt.grid(False)\n",
        "plt.show()"
      ],
      "execution_count": 11,
      "outputs": [
        {
          "output_type": "display_data",
          "data": {
            "image/png": "[encoded data removed]",
            "text/plain": [
              "<Figure size 432x288 with 2 Axes>"
            ]
          },
          "metadata": {
            "tags": [],
            "needs_background": "light"
          }
        }
      ]
    },
    {
      "cell_type": "markdown",
      "metadata": {
        "id": "qg2hEPcF73WM"
      },
      "source": [
        "신경망 모델 주입 전 값의 범위를 0~1로 조정.\\\n",
        "255로 나눠야 함.\\\n",
        "훈련 세트와 테스트 세트 모두 동일한 방식으로 전처리하는 것이 중요함."
      ]
    },
    {
      "cell_type": "code",
      "metadata": {
        "id": "fBPQMx7e8Apw"
      },
      "source": [
        "train_images = train_images / 255.0\n",
        "\n",
        "test_images = test_images / 255.0"
      ],
      "execution_count": 12,
      "outputs": []
    },
    {
      "cell_type": "markdown",
      "metadata": {
        "id": "sesvjUxv8H-u"
      },
      "source": [
        "훈련 세트에서 처음 25개 이미지와 아래에 클래스 이름 출력."
      ]
    },
    {
      "cell_type": "code",
      "metadata": {
        "colab": {
          "base_uri": "https://localhost:8080/",
          "height": 589
        },
        "id": "6xl9HmEq8M8B",
        "outputId": "313b07e4-724d-4fc8-ad66-8e04b85d3283"
      },
      "source": [
        "plt.figure(figsize=(10, 10))\n",
        "# 5행 5열\n",
        "for i in range(25):\n",
        "  plt.subplot(5, 5, i + 1)\n",
        "  # x축 표시 제거\n",
        "  plt.xticks([])\n",
        "  # y축 표시 제거\n",
        "  plt.yticks([])\n",
        "  # 격자 표시 제거\n",
        "  plt.grid(False)\n",
        "  # i번째 이미지 바이너리 형태 출력\n",
        "  plt.imshow(train_images[i], cmap=plt.cm.binary)\n",
        "  # 각 서브 플롯의 이름 출력\n",
        "  plt.xlabel(class_names[train_labels[i]])\n",
        "plt.show()"
      ],
      "execution_count": 13,
      "outputs": [
        {
          "output_type": "display_data",
          "data": {
            "image/png": "[encoded data removed]",
            "text/plain": [
              "<Figure size 720x720 with 25 Axes>"
            ]
          },
          "metadata": {
            "tags": []
          }
        }
      ]
    },
    {
      "cell_type": "markdown",
      "metadata": {
        "id": "0SAT_WN_-Wm4"
      },
      "source": [
        "신경망 모델을 만들려면 모델의 층을 구성한 다음 모델을 컴파일해야 함\\\n",
        "\n",
        "신경망의 기본 요소는 층(layer)이며 주입된 데이터에서 표현을 추출.\\\n",
        "대부분의 딥러닝은 간단한 층을 연결하여 구성함."
      ]
    },
    {
      "cell_type": "code",
      "metadata": {
        "id": "JSqSwFXc-rGJ"
      },
      "source": [
        "model = keras.Sequential([\n",
        "                          keras.layers.Flatten(input_shape=(28, 28)),\n",
        "                          keras.layers.Dense(128, activation='relu'),\n",
        "                          keras.layers.Dense(10, activation='softmax')\n",
        "])"
      ],
      "execution_count": 14,
      "outputs": []
    },
    {
      "cell_type": "markdown",
      "metadata": {
        "id": "BtUu01Sa_APd"
      },
      "source": [
        "이 네트워크의 첫 번째 층인 tk.keras.layers.Flatten은\\\n",
        "2차원 배열(28 x 28 픽셀)의 이미지 포맷을 28 * 28 = 784 픽셀의 1차원 배열로 변환함.\\\n",
        "이미지에 있는 픽셀의 행을 펼쳐서 일렬로 늘림.\\\n",
        "학습되는 가중치는 없으며 데이터를 변환하기만 함.\\\n",
        "\n",
        "픽셀을 펼친 후에는 두 개의 tk.keras.layers.Dense 층이 연속되어 연결됨.\\\n",
        "해당 층을 밀집 연결(densely-connected) 또는 완전 연결(fully-connected) 층이라고 부름.\\\n",
        "첫 번째 Dense 층은 128개의 노드(또는 뉴런)를 가짐.\\\n",
        "두 번째 (마지막) 층은 10개의 노드의 소프트맥스(softmax) 층임.\\\n",
        "이 층은 10개의 확률을 반환하며 반환된 값의 총합은 1.\\\n",
        "각 노드는 현재 이미지가 10개의 클래스 중 하나에 속할 확률을 출력함."
      ]
    },
    {
      "cell_type": "markdown",
      "metadata": {
        "id": "m999MLFG_7_l"
      },
      "source": [
        "모델 훈련 전에 필요한 몇 가지 설정이 컴파일 단계 시 추가됨.\n",
        "\n",
        "(1) 손실 함수(Loss function)\n",
        "- 훈련하는 동안 오차를 측정함.\n",
        "- 모델의 학습이 올바른 방향으로 향하도록 이 함수를 최소화해야 함.\n",
        "\n",
        "(2) 옵티마이저(Optimizer)\n",
        "- 데이터와 손실 함수를 바탕으로 모델의 업데이트 방법을 결정함.\n",
        "\n",
        "(3) 지표(Metrics)\n",
        "- 훈련 단계와 테스트 단계를 모니터링하기 위해 사용함."
      ]
    },
    {
      "cell_type": "code",
      "metadata": {
        "id": "d8LTVBdlAZ70"
      },
      "source": [
        "model.compile(optimizer='adam',\n",
        "              loss='sparse_categorical_crossentropy',\n",
        "              metrics=['accuracy'])"
      ],
      "execution_count": 15,
      "outputs": []
    },
    {
      "cell_type": "markdown",
      "metadata": {
        "id": "Q2amoOa2AlSf"
      },
      "source": [
        "신경망 모델을 훈련하는 단계는 다음과 같다.\n",
        "\n",
        "(1) 훈련 데이터를 모델에 주입\\\n",
        "(2) 모델이 이미지와 레이블을 매핑하는 방법을 배움\\\n",
        "(3) 테스트 세트에 대한 모델의 예측을 만듦\n",
        "\n",
        "훈련을 시작하기 위해 model.fit 메서드를 호출하면 모델이 훈련 데이터를 학습함."
      ]
    },
    {
      "cell_type": "code",
      "metadata": {
        "colab": {
          "base_uri": "https://localhost:8080/"
        },
        "id": "BkKmToylA5cx",
        "outputId": "2f562274-4d23-4fcf-f0de-e92ec5185d88"
      },
      "source": [
        "model.fit(train_images, train_labels, epochs=5)"
      ],
      "execution_count": 16,
      "outputs": [
        {
          "output_type": "stream",
          "text": [
            "Epoch 1/5\n",
            "1875/1875 [==============================] - 5s 3ms/step - loss: 0.6293 - accuracy: 0.7827\n",
            "Epoch 2/5\n",
            "1875/1875 [==============================] - 5s 2ms/step - loss: 0.3855 - accuracy: 0.8616\n",
            "Epoch 3/5\n",
            "1875/1875 [==============================] - 5s 2ms/step - loss: 0.3390 - accuracy: 0.8769\n",
            "Epoch 4/5\n",
            "1875/1875 [==============================] - 5s 2ms/step - loss: 0.3085 - accuracy: 0.8874\n",
            "Epoch 5/5\n",
            "1875/1875 [==============================] - 4s 2ms/step - loss: 0.2910 - accuracy: 0.8936\n"
          ],
          "name": "stdout"
        },
        {
          "output_type": "execute_result",
          "data": {
            "text/plain": [
              "<tensorflow.python.keras.callbacks.History at 0x7fbc0cbe1dd0>"
            ]
          },
          "metadata": {
            "tags": []
          },
          "execution_count": 16
        }
      ]
    },
    {
      "cell_type": "markdown",
      "metadata": {
        "id": "NJ8PfBLrBLgR"
      },
      "source": [
        "모델이 훈련되면서 손실과 정확도가 출력됨.\\\n",
        "위의 모델은 훈련 세트에서 약 0.88(88%) 정도의 정확도를 달성함."
      ]
    },
    {
      "cell_type": "code",
      "metadata": {
        "colab": {
          "base_uri": "https://localhost:8080/"
        },
        "id": "CWDUVh01BWYY",
        "outputId": "05d5d935-5c1c-48e0-8a3b-698e380649ed"
      },
      "source": [
        "test_loss, test_acc = model.evaluate(test_images, test_labels, verbose=2)\n",
        "\n",
        "print(\"\\n테스트 정확도:\", test_acc)"
      ],
      "execution_count": 18,
      "outputs": [
        {
          "output_type": "stream",
          "text": [
            "313/313 - 0s - loss: 0.3528 - accuracy: 0.8722\n",
            "\n",
            "테스트 정확도: 0.8722000122070312\n"
          ],
          "name": "stdout"
        }
      ]
    },
    {
      "cell_type": "markdown",
      "metadata": {
        "id": "ZRpZZRcMBlFO"
      },
      "source": [
        "훈련 세트의 정확도와 테스트 세트의 정확도 사이의 차이는 과대적합(overfitting) 때문.\\\n",
        "과대적합은 머신러닝 모델이 훈련 데이터보다 새로운 데이터에서 성능이 낮아지는 현상을 의미함."
      ]
    },
    {
      "cell_type": "code",
      "metadata": {
        "colab": {
          "base_uri": "https://localhost:8080/"
        },
        "id": "4oNHhmMBB7n6",
        "outputId": "6fe04c57-520e-44d0-b778-880fd554b567"
      },
      "source": [
        "predictions = model.predict(test_images)\n",
        "predictions[0]"
      ],
      "execution_count": 19,
      "outputs": [
        {
          "output_type": "execute_result",
          "data": {
            "text/plain": [
              "array([1.36612186e-06, 2.14135525e-06, 9.93767799e-07, 2.03004689e-08,\n",
              "       1.55317377e-06, 7.48967286e-03, 6.54113910e-06, 4.62590121e-02,\n",
              "       1.03640305e-05, 9.46228266e-01], dtype=float32)"
            ]
          },
          "metadata": {
            "tags": []
          },
          "execution_count": 19
        }
      ]
    },
    {
      "cell_type": "markdown",
      "metadata": {
        "id": "GbdkUhA1CEBe"
      },
      "source": [
        "이미지 예측 중 첫 번째 예측을 확인한 결과.\\\n",
        "이 예측은 10개의 숫자 배열로 나타남.\\\n",
        "이 값은 10개의 옷 품목에 상응하는 모델의 신뢰도(confidence)를 나타냄."
      ]
    },
    {
      "cell_type": "code",
      "metadata": {
        "colab": {
          "base_uri": "https://localhost:8080/"
        },
        "id": "Te6Ye8PjCQQp",
        "outputId": "7c3a30a8-42aa-46fa-8c67-2bfa8e747bab"
      },
      "source": [
        "np.argmax(predictions[0])"
      ],
      "execution_count": 20,
      "outputs": [
        {
          "output_type": "execute_result",
          "data": {
            "text/plain": [
              "9"
            ]
          },
          "metadata": {
            "tags": []
          },
          "execution_count": 20
        }
      ]
    },
    {
      "cell_type": "code",
      "metadata": {
        "colab": {
          "base_uri": "https://localhost:8080/"
        },
        "id": "vmlH3rgjCWDQ",
        "outputId": "2b06a562-76f7-4949-c5cf-9b1e4c5f44eb"
      },
      "source": [
        "test_labels[0]"
      ],
      "execution_count": 21,
      "outputs": [
        {
          "output_type": "execute_result",
          "data": {
            "text/plain": [
              "9"
            ]
          },
          "metadata": {
            "tags": []
          },
          "execution_count": 21
        }
      ]
    },
    {
      "cell_type": "markdown",
      "metadata": {
        "id": "UPVPfkggCZ8w"
      },
      "source": [
        "두 값이 일치하는 것을 볼 수 있음."
      ]
    },
    {
      "cell_type": "code",
      "metadata": {
        "id": "dCjkn9vyCcr1"
      },
      "source": [
        "def plot_image(i, predictions_array, true_label, img):\n",
        "  predictions_array, true_label, img = predictions_array[i], true_label[i], img[i]\n",
        "  plt.grid(False)\n",
        "  plt.xticks([])\n",
        "  plt.yticks([])\n",
        "  plt.imshow(img, cmap=plt.cm.binary)\n",
        "  predicted_label = np.argmax(predictions_array)\n",
        "  if predicted_label == true_label:\n",
        "    color = 'blue'\n",
        "  else:\n",
        "    color = 'red'\n",
        "  plt.xlabel(\"{} {:2.0f}% ({})\".format(class_names[predicted_label],\n",
        "                                       100 * np.max(predictions_array),\n",
        "                                       class_names[true_label]),\n",
        "             color=color)\n",
        "\n",
        "def plot_value_array(i, predictions_array, true_label):\n",
        "  predictions_array, true_label = predictions_array[i], true_label[i]\n",
        "  plt.grid(False)\n",
        "  plt.xticks([])\n",
        "  plt.yticks([])\n",
        "  thisplot = plt.bar(range(10), predictions_array, color='#777777')\n",
        "  plt.ylim([0, 1])\n",
        "  predicted_label = np.argmax(predictions_array)\n",
        "  thisplot[predicted_label].set_color('red')\n",
        "  thisplot[true_label].set_color('blue')"
      ],
      "execution_count": 22,
      "outputs": []
    },
    {
      "cell_type": "code",
      "metadata": {
        "colab": {
          "base_uri": "https://localhost:8080/",
          "height": 203
        },
        "id": "-MEb2HEfD5-J",
        "outputId": "4397ad1e-82c0-400c-b0c7-830197094e72"
      },
      "source": [
        "i = 0\n",
        "plt.figure(figsize=(6, 3))\n",
        "plt.subplot(1, 2, 1)\n",
        "plot_image(i, predictions, test_labels, test_images)\n",
        "plt.subplot(1, 2, 2)\n",
        "plot_value_array(i, predictions, test_labels)\n",
        "plt.show()"
      ],
      "execution_count": 24,
      "outputs": [
        {
          "output_type": "display_data",
          "data": {
            "image/png": "[encoded data removed]",
            "text/plain": [
              "<Figure size 432x216 with 2 Axes>"
            ]
          },
          "metadata": {
            "tags": []
          }
        }
      ]
    },
    {
      "cell_type": "code",
      "metadata": {
        "colab": {
          "base_uri": "https://localhost:8080/",
          "height": 203
        },
        "id": "HdztlLudElHA",
        "outputId": "9a9bf609-f641-4dec-a3f7-c426f08e1948"
      },
      "source": [
        "i = 12\n",
        "plt.figure(figsize=(6, 3))\n",
        "plt.subplot(1, 2, 1)\n",
        "plot_image(i, predictions, test_labels, test_images)\n",
        "plt.subplot(1, 2, 2)\n",
        "plot_value_array(i, predictions, test_labels)\n",
        "plt.show()"
      ],
      "execution_count": 25,
      "outputs": [
        {
          "output_type": "display_data",
          "data": {
            "image/png": "[encoded data removed]",
            "text/plain": [
              "<Figure size 432x216 with 2 Axes>"
            ]
          },
          "metadata": {
            "tags": []
          }
        }
      ]
    },
    {
      "cell_type": "markdown",
      "metadata": {
        "id": "L5S9xumfExHr"
      },
      "source": [
        "올바르게 예측된 레이블은 파란색이고 잘못 예측된 레이블은 빨강색.\\\n",
        "숫자는 예측 레이블의 신뢰도 퍼센트(100점 만점).\\\n",
        "신뢰도 점수가 높을 때도 잘못 예측할 수 있음."
      ]
    },
    {
      "cell_type": "code",
      "metadata": {
        "colab": {
          "base_uri": "https://localhost:8080/",
          "height": 589
        },
        "id": "K05PuKSaE62V",
        "outputId": "0282788d-ed5b-4fbb-f8df-1ebb7b3b2bea"
      },
      "source": [
        "# 처음 X 개의 테스트 이미지와 예측 레이블, 진짜 레이블을 출력\n",
        "# 올바른 예측은 파란색, 잘못된 예측은 빨간색으로 나타남\n",
        "num_rows = 5\n",
        "num_cols = 3\n",
        "num_images = num_rows * num_cols\n",
        "plt.figure(figsize=(2 * 2 * num_cols, 2 * num_rows))\n",
        "for i in range(num_images):\n",
        "  plt.subplot(num_rows, 2 * num_cols, 2 * i + 1)\n",
        "  plot_image(i, predictions, test_labels, test_images)\n",
        "  plt.subplot(num_rows, 2 * num_cols, 2 * i + 2)\n",
        "  plot_value_array(i, predictions, test_labels)\n",
        "plt.show()"
      ],
      "execution_count": 26,
      "outputs": [
        {
          "output_type": "display_data",
          "data": {
            "image/png": "[encoded data removed]",
            "text/plain": [
              "<Figure size 864x720 with 30 Axes>"
            ]
          },
          "metadata": {
            "tags": []
          }
        }
      ]
    },
    {
      "cell_type": "markdown",
      "metadata": {
        "id": "jEQgDMTLFdg2"
      },
      "source": [
        "훈련된 모델을 사용하여 한 이미지에 대한 예측 생성."
      ]
    },
    {
      "cell_type": "code",
      "metadata": {
        "colab": {
          "base_uri": "https://localhost:8080/"
        },
        "id": "mcSpvRKhFgxD",
        "outputId": "d3d81e10-7a47-47e0-b435-dc1edc48b543"
      },
      "source": [
        "# 테스트 세트에서 이미지 하나를 선택함\n",
        "img = test_images[0]\n",
        "print(img.shape)"
      ],
      "execution_count": 27,
      "outputs": [
        {
          "output_type": "stream",
          "text": [
            "(28, 28)\n"
          ],
          "name": "stdout"
        }
      ]
    },
    {
      "cell_type": "markdown",
      "metadata": {
        "id": "u1ecOi1JFoVK"
      },
      "source": [
        "tk.keras 모델은 2차원 배열로 만들어야 함."
      ]
    },
    {
      "cell_type": "code",
      "metadata": {
        "colab": {
          "base_uri": "https://localhost:8080/"
        },
        "id": "dsyvCvVXFsTN",
        "outputId": "d13759d9-1238-4c78-bc7c-3dc2192428f7"
      },
      "source": [
        "# 이미지 하나만 사용할 때도 배치에 추가함.\n",
        "img = (np.expand_dims(img, 0))\n",
        "print(img.shape)"
      ],
      "execution_count": 28,
      "outputs": [
        {
          "output_type": "stream",
          "text": [
            "(1, 28, 28)\n"
          ],
          "name": "stdout"
        }
      ]
    },
    {
      "cell_type": "markdown",
      "metadata": {
        "id": "f7uw7yjkFzT7"
      },
      "source": [
        "이미지 예측 생성."
      ]
    },
    {
      "cell_type": "code",
      "metadata": {
        "colab": {
          "base_uri": "https://localhost:8080/"
        },
        "id": "mf35VO4GF02J",
        "outputId": "a1e62308-687c-44ea-f097-0d1eba62a99b"
      },
      "source": [
        "predictions_single = model.predict(img)\n",
        "\n",
        "print(predictions_single)"
      ],
      "execution_count": 29,
      "outputs": [
        {
          "output_type": "stream",
          "text": [
            "[[1.36612186e-06 2.14135525e-06 9.93765866e-07 2.03004689e-08\n",
            "  1.55317684e-06 7.48968357e-03 6.54113910e-06 4.62590344e-02\n",
            "  1.03640305e-05 9.46228266e-01]]\n"
          ],
          "name": "stdout"
        }
      ]
    },
    {
      "cell_type": "code",
      "metadata": {
        "colab": {
          "base_uri": "https://localhost:8080/",
          "height": 300
        },
        "id": "ZMbs_eDKF6u9",
        "outputId": "6b97fe58-42fc-484e-af9b-4393efd6e85b"
      },
      "source": [
        "plot_value_array(0, predictions_single, test_labels)\n",
        "_ = plt.xticks(range(10), class_names, rotation=45)"
      ],
      "execution_count": 31,
      "outputs": [
        {
          "output_type": "display_data",
          "data": {
            "image/png": "[encoded data removed]",
            "text/plain": [
              "<Figure size 432x288 with 1 Axes>"
            ]
          },
          "metadata": {
            "tags": [],
            "needs_background": "light"
          }
        }
      ]
    },
    {
      "cell_type": "markdown",
      "metadata": {
        "id": "0lCfvYQ6GK5g"
      },
      "source": [
        "model.predict는 2차원 넘파이 배열을 반환하므로 첫 번째 이미지의 예측을 선택함"
      ]
    },
    {
      "cell_type": "code",
      "metadata": {
        "colab": {
          "base_uri": "https://localhost:8080/"
        },
        "id": "1-Zt_GReGPPU",
        "outputId": "c8ff665b-068d-424a-ee66-0e5e59589fe2"
      },
      "source": [
        "np.argmax(predictions_single[0])"
      ],
      "execution_count": 32,
      "outputs": [
        {
          "output_type": "execute_result",
          "data": {
            "text/plain": [
              "9"
            ]
          },
          "metadata": {
            "tags": []
          },
          "execution_count": 32
        }
      ]
    }
  ]
}