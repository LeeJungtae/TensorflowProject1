{
  "nbformat": 4,
  "nbformat_minor": 0,
  "metadata": {
    "colab": {
      "name": "TensorflowProject3.ipynb",
      "provenance": [],
      "collapsed_sections": [],
      "authorship_tag": "ABX9TyN58M0TE1PuTVAT/JaMxxTX",
      "include_colab_link": true
    },
    "kernelspec": {
      "name": "python3",
      "display_name": "Python 3"
    },
    "language_info": {
      "name": "python"
    }
  },
  "cells": [
    {
      "cell_type": "markdown",
      "metadata": {
        "id": "view-in-github",
        "colab_type": "text"
      },
      "source": [
        "<a href=\"https://colab.research.google.com/github/LeeJungtae/TensorflowProject1/blob/main/TensorflowProject3.ipynb\" target=\"_parent\"><img src=\"https://colab.research.google.com/assets/colab-badge.svg\" alt=\"Open In Colab\"/></a>"
      ]
    },
    {
      "cell_type": "markdown",
      "metadata": {
        "id": "2PwfHgd6V61A"
      },
      "source": [
        "이번에는 텍스트 분류 실습을 해보려고 한다.\n",
        "\n",
        "인터넷 영화 데이터베이스(IMDB)에서 수집한 50,000개의 영화 리뷰 텍스트를 담은 IMDB 데이터셋을 활용한다.\\\n",
        "25,000개의 리뷰는 훈련용, 25,000개는 테스트용으로 나뉘어져 있다.\\\n",
        "훈련 세트와 테스트 세트의 개수가 동일하므로 긍정과 부정의 개수가 동일하다."
      ]
    },
    {
      "cell_type": "code",
      "metadata": {
        "colab": {
          "base_uri": "https://localhost:8080/"
        },
        "id": "3BJXokkeWSQ1",
        "outputId": "61f9fc5c-ec86-401d-d492-e04d65ab1c2e"
      },
      "source": [
        "import tensorflow as tf\n",
        "from tensorflow import keras\n",
        "\n",
        "import numpy as np\n",
        "\n",
        "print(tf.__version__)"
      ],
      "execution_count": 1,
      "outputs": [
        {
          "output_type": "stream",
          "text": [
            "2.4.1\n"
          ],
          "name": "stdout"
        }
      ]
    },
    {
      "cell_type": "markdown",
      "metadata": {
        "id": "MRXftKQYWl9L"
      },
      "source": [
        "IMDB 데이터셋은 텐서플로우와 함께 제공된다.\\\n",
        "리뷰(단어의 시퀀스(Sequence))는 미리 전처리해서 정수 시퀀스로 변환되어 있다.\\\n",
        "각 정수는 어휘 사전에 있는 특정 단어를 의미한다.\n",
        "\n",
        "다음 코드는 IMDB 데이터셋을 컴퓨터에 다운로드한다."
      ]
    },
    {
      "cell_type": "code",
      "metadata": {
        "colab": {
          "base_uri": "https://localhost:8080/"
        },
        "id": "QNdryDyKWzNQ",
        "outputId": "9e67d198-8acb-49f6-ca10-a29623c7ee2a"
      },
      "source": [
        "imdb = keras.datasets.imdb\n",
        "\n",
        "(train_data, train_labels), (test_data, test_labels) = imdb.load_data(num_words=10000)"
      ],
      "execution_count": 2,
      "outputs": [
        {
          "output_type": "stream",
          "text": [
            "Downloading data from https://storage.googleapis.com/tensorflow/tf-keras-datasets/imdb.npz\n",
            "17465344/17464789 [==============================] - 0s 0us/step\n"
          ],
          "name": "stdout"
        },
        {
          "output_type": "stream",
          "text": [
            "<string>:6: VisibleDeprecationWarning: Creating an ndarray from ragged nested sequences (which is a list-or-tuple of lists-or-tuples-or ndarrays with different lengths or shapes) is deprecated. If you meant to do this, you must specify 'dtype=object' when creating the ndarray\n",
            "/usr/local/lib/python3.7/dist-packages/tensorflow/python/keras/datasets/imdb.py:159: VisibleDeprecationWarning: Creating an ndarray from ragged nested sequences (which is a list-or-tuple of lists-or-tuples-or ndarrays with different lengths or shapes) is deprecated. If you meant to do this, you must specify 'dtype=object' when creating the ndarray\n",
            "  x_train, y_train = np.array(xs[:idx]), np.array(labels[:idx])\n",
            "/usr/local/lib/python3.7/dist-packages/tensorflow/python/keras/datasets/imdb.py:160: VisibleDeprecationWarning: Creating an ndarray from ragged nested sequences (which is a list-or-tuple of lists-or-tuples-or ndarrays with different lengths or shapes) is deprecated. If you meant to do this, you must specify 'dtype=object' when creating the ndarray\n",
            "  x_test, y_test = np.array(xs[idx:]), np.array(labels[idx:])\n"
          ],
          "name": "stderr"
        }
      ]
    },
    {
      "cell_type": "markdown",
      "metadata": {
        "id": "uFFrIkKYW_Vl"
      },
      "source": [
        "매개변수 num_words=10000은 훈련 데이터에서 가장 많이 등장하는 상위 10,000개의 단어를 선택한다.\\\n",
        "데이터 크기를 적당하게 유지하기 위해 드물게 등장하는 단어는 제외했다."
      ]
    },
    {
      "cell_type": "markdown",
      "metadata": {
        "id": "s67IwUclXJVo"
      },
      "source": [
        "이 데이터셋의 샘플은 전처리된 정수 배열이다.\\\n",
        "이 정수는 영화 리뷰에 나오는 단어를 나타낸다.\\\n",
        "레이블(label)은 정수 0 또는 1이다.\\\n",
        "0은 부정적인 리뷰, 1은 긍정적인 리뷰다."
      ]
    },
    {
      "cell_type": "code",
      "metadata": {
        "colab": {
          "base_uri": "https://localhost:8080/"
        },
        "id": "MNJznICDXgKM",
        "outputId": "1b4d834f-1ea2-4583-9f96-52d2da1bda01"
      },
      "source": [
        "print('훈련 샘플 : {}, 레이블 : {}'.format(len(train_data), len(train_labels)))"
      ],
      "execution_count": 3,
      "outputs": [
        {
          "output_type": "stream",
          "text": [
            "훈련 샘플 : 25000, 레이블 : 25000\n"
          ],
          "name": "stdout"
        }
      ]
    },
    {
      "cell_type": "markdown",
      "metadata": {
        "id": "_KIxv34tXxOT"
      },
      "source": [
        "리뷰 텍스트는 어휘 사전의 특정 단어를 나타내는 정수로 변환되어 있다.\\\n",
        "첫 번째 리뷰를 확인해보자."
      ]
    },
    {
      "cell_type": "code",
      "metadata": {
        "colab": {
          "base_uri": "https://localhost:8080/"
        },
        "id": "KjnzJQuwX2aJ",
        "outputId": "85313fc2-c199-4e1b-b367-706ff8dd2f59"
      },
      "source": [
        "print(train_data[0])"
      ],
      "execution_count": 4,
      "outputs": [
        {
          "output_type": "stream",
          "text": [
            "[1, 14, 22, 16, 43, 530, 973, 1622, 1385, 65, 458, 4468, 66, 3941, 4, 173, 36, 256, 5, 25, 100, 43, 838, 112, 50, 670, 2, 9, 35, 480, 284, 5, 150, 4, 172, 112, 167, 2, 336, 385, 39, 4, 172, 4536, 1111, 17, 546, 38, 13, 447, 4, 192, 50, 16, 6, 147, 2025, 19, 14, 22, 4, 1920, 4613, 469, 4, 22, 71, 87, 12, 16, 43, 530, 38, 76, 15, 13, 1247, 4, 22, 17, 515, 17, 12, 16, 626, 18, 2, 5, 62, 386, 12, 8, 316, 8, 106, 5, 4, 2223, 5244, 16, 480, 66, 3785, 33, 4, 130, 12, 16, 38, 619, 5, 25, 124, 51, 36, 135, 48, 25, 1415, 33, 6, 22, 12, 215, 28, 77, 52, 5, 14, 407, 16, 82, 2, 8, 4, 107, 117, 5952, 15, 256, 4, 2, 7, 3766, 5, 723, 36, 71, 43, 530, 476, 26, 400, 317, 46, 7, 4, 2, 1029, 13, 104, 88, 4, 381, 15, 297, 98, 32, 2071, 56, 26, 141, 6, 194, 7486, 18, 4, 226, 22, 21, 134, 476, 26, 480, 5, 144, 30, 5535, 18, 51, 36, 28, 224, 92, 25, 104, 4, 226, 65, 16, 38, 1334, 88, 12, 16, 283, 5, 16, 4472, 113, 103, 32, 15, 16, 5345, 19, 178, 32]\n"
          ],
          "name": "stdout"
        }
      ]
    },
    {
      "cell_type": "markdown",
      "metadata": {
        "id": "y85RXHqHX6gT"
      },
      "source": [
        "영화 리뷰들은 길이가 다르다.\\\n",
        "다음 코드는 첫 번째 리뷰와 두 번째 리뷰에서 단어의 개수를 출력한다.\\\n",
        "신경망의 입력은 길이가 같아야 하므로 이걸 해결해보도록 하자."
      ]
    },
    {
      "cell_type": "code",
      "metadata": {
        "colab": {
          "base_uri": "https://localhost:8080/"
        },
        "id": "RvcLOKatYCLI",
        "outputId": "6fc7a17d-9c15-45a7-c9ef-ad7e34d4a131"
      },
      "source": [
        "len(train_data[0]), len(train_data[1])"
      ],
      "execution_count": 5,
      "outputs": [
        {
          "output_type": "execute_result",
          "data": {
            "text/plain": [
              "(218, 189)"
            ]
          },
          "metadata": {
            "tags": []
          },
          "execution_count": 5
        }
      ]
    },
    {
      "cell_type": "markdown",
      "metadata": {
        "id": "MRyh3gBmYG7W"
      },
      "source": [
        "정수를 다시 텍스트로 변환해보자.\\\n",
        "여기서는 정수와 문자열을 매핑한 딕셔너리(dictionary) 객체에 질의하는 헬퍼(Helper) 함수를 만들어보자."
      ]
    },
    {
      "cell_type": "code",
      "metadata": {
        "colab": {
          "base_uri": "https://localhost:8080/"
        },
        "id": "AILuGlaXYPjW",
        "outputId": "2740428a-adb8-4ba7-c68e-2b42a2567a02"
      },
      "source": [
        "# 단어와 정수 인덱스를 매핑한 딕셔너리\n",
        "word_index = imdb.get_word_index()\n",
        "\n",
        "# 처음 몇 개 인덱스는 사전에 정의되어 있다.\n",
        "word_index = {k: (v + 3) for k, v in word_index.items()}\n",
        "word_index['<PAD>'] = 0\n",
        "word_index['<START>'] = 1\n",
        "word_index['<UNK>'] = 2 # unknown\n",
        "word_index['<UNUSED>'] = 3\n",
        "\n",
        "reverse_word_index = dict([(value, key) for (key, value) in word_index.items()])\n",
        "\n",
        "def decode_review(text):\n",
        "  return ' '.join([reverse_word_index.get(i, '?') for i in text])"
      ],
      "execution_count": 6,
      "outputs": [
        {
          "output_type": "stream",
          "text": [
            "Downloading data from https://storage.googleapis.com/tensorflow/tf-keras-datasets/imdb_word_index.json\n",
            "1646592/1641221 [==============================] - 0s 0us/step\n"
          ],
          "name": "stdout"
        }
      ]
    },
    {
      "cell_type": "markdown",
      "metadata": {
        "id": "3r0wKXeyZTI9"
      },
      "source": [
        "이제 decode_review 함수를 사용해 첫 번째 리뷰 텍스트를 출력해보자."
      ]
    },
    {
      "cell_type": "code",
      "metadata": {
        "colab": {
          "base_uri": "https://localhost:8080/",
          "height": 137
        },
        "id": "PZ5Rj2c2ZYkr",
        "outputId": "6ab43653-d05f-49e4-ec5c-e5880deba3dc"
      },
      "source": [
        "decode_review(train_data[0])"
      ],
      "execution_count": 7,
      "outputs": [
        {
          "output_type": "execute_result",
          "data": {
            "application/vnd.google.colaboratory.intrinsic+json": {
              "type": "string"
            },
            "text/plain": [
              "\"<START> this film was just brilliant casting location scenery story direction everyone's really suited the part they played and you could just imagine being there robert <UNK> is an amazing actor and now the same being director <UNK> father came from the same scottish island as myself so i loved the fact there was a real connection with this film the witty remarks throughout the film were great it was just brilliant so much that i bought the film as soon as it was released for <UNK> and would recommend it to everyone to watch and the fly fishing was amazing really cried at the end it was so sad and you know what they say if you cry at a film it must have been good and this definitely was also <UNK> to the two little boy's that played the <UNK> of norman and paul they were just brilliant children are often left out of the <UNK> list i think because the stars that play them all grown up are such a big profile for the whole film but these children are amazing and should be praised for what they have done don't you think the whole story was so lovely because it was true and was someone's life after all that was shared with us all\""
            ]
          },
          "metadata": {
            "tags": []
          },
          "execution_count": 7
        }
      ]
    },
    {
      "cell_type": "markdown",
      "metadata": {
        "id": "-aukhGWbZkof"
      },
      "source": [
        "리뷰-정수 배열-는 신경망에 주입하기 전에 먼저 텐서로 변환되어야 한다.\\\n",
        "변환 방법에는 몇 가지가 있다.\n",
        "\n",
        "- 원-핫 인코딩(one-hot encoding)은 정수 배열을 0과 1로 이뤄진 벡터로 변환한다. 예를 들어 배열 [3, 5]를 인덱스 3과 5만 1이고 나머지는 0인 10,000차원 벡터로 변환할 수 있다. 그 다음 실수 벡터 데이터를 다룰 수 있는 층-Dense 층-을 신경망의 첫 번째 층으로 사용한다. 이 방법은 num_words * num_reviews 크기의 행렬이 필요하기 때문에 메모리를 많이 사용한다.\n",
        "\n",
        "- 다른 방법으로는, 정수 배열의 길이가 모두 같도록 패딩(padding)을 추가해 max_length * num_reviews 크기의 정수 텐서를 만든다. 이런 형태의 텐서를 다룰 수 있는 임베딩(embeddding) 층을 신경망의 첫 번째 층으로 사용할 수 있다.\n",
        "\n",
        "여기서는 두 번째 방식을 사용해보겠다.\\\n",
        "영화 리뷰의 길이가 같아야 하므로 pad_sequence 함수를 사용해 길이를 맞추자."
      ]
    },
    {
      "cell_type": "code",
      "metadata": {
        "id": "Ic6gnv1MaUr9"
      },
      "source": [
        "train_data = keras.preprocessing.sequence.pad_sequences(train_data,\n",
        "                                                        value=word_index['<PAD>'],\n",
        "                                                        padding='post',\n",
        "                                                        maxlen=256)\n",
        "\n",
        "test_data = keras.preprocessing.sequence.pad_sequences(test_data,\n",
        "                                                       value=word_index['<PAD>'],\n",
        "                                                       padding='post',\n",
        "                                                       maxlen=256)"
      ],
      "execution_count": 10,
      "outputs": []
    },
    {
      "cell_type": "markdown",
      "metadata": {
        "id": "YkUR2BVsazyj"
      },
      "source": [
        "샘플의 길이를 확인해보자."
      ]
    },
    {
      "cell_type": "code",
      "metadata": {
        "colab": {
          "base_uri": "https://localhost:8080/"
        },
        "id": "kfhv6OnAa2Ds",
        "outputId": "3c2819bf-3256-49f7-f120-0caabac62065"
      },
      "source": [
        "len(train_data[0]), len(train_data[1])"
      ],
      "execution_count": 11,
      "outputs": [
        {
          "output_type": "execute_result",
          "data": {
            "text/plain": [
              "(256, 256)"
            ]
          },
          "metadata": {
            "tags": []
          },
          "execution_count": 11
        }
      ]
    },
    {
      "cell_type": "markdown",
      "metadata": {
        "id": "Rpq6OeS3a8Kj"
      },
      "source": [
        "(패딩된) 첫 번째 리뷰 내용을 확인해보자."
      ]
    },
    {
      "cell_type": "code",
      "metadata": {
        "colab": {
          "base_uri": "https://localhost:8080/"
        },
        "id": "DbIFufykbCa3",
        "outputId": "14de9a72-0a78-4be1-b71e-51226ec02b6c"
      },
      "source": [
        "print(train_data[0])"
      ],
      "execution_count": 12,
      "outputs": [
        {
          "output_type": "stream",
          "text": [
            "[   1   14   22   16   43  530  973 1622 1385   65  458 4468   66 3941\n",
            "    4  173   36  256    5   25  100   43  838  112   50  670    2    9\n",
            "   35  480  284    5  150    4  172  112  167    2  336  385   39    4\n",
            "  172 4536 1111   17  546   38   13  447    4  192   50   16    6  147\n",
            " 2025   19   14   22    4 1920 4613  469    4   22   71   87   12   16\n",
            "   43  530   38   76   15   13 1247    4   22   17  515   17   12   16\n",
            "  626   18    2    5   62  386   12    8  316    8  106    5    4 2223\n",
            " 5244   16  480   66 3785   33    4  130   12   16   38  619    5   25\n",
            "  124   51   36  135   48   25 1415   33    6   22   12  215   28   77\n",
            "   52    5   14  407   16   82    2    8    4  107  117 5952   15  256\n",
            "    4    2    7 3766    5  723   36   71   43  530  476   26  400  317\n",
            "   46    7    4    2 1029   13  104   88    4  381   15  297   98   32\n",
            " 2071   56   26  141    6  194 7486   18    4  226   22   21  134  476\n",
            "   26  480    5  144   30 5535   18   51   36   28  224   92   25  104\n",
            "    4  226   65   16   38 1334   88   12   16  283    5   16 4472  113\n",
            "  103   32   15   16 5345   19  178   32    0    0    0    0    0    0\n",
            "    0    0    0    0    0    0    0    0    0    0    0    0    0    0\n",
            "    0    0    0    0    0    0    0    0    0    0    0    0    0    0\n",
            "    0    0    0    0]\n"
          ],
          "name": "stdout"
        }
      ]
    },
    {
      "cell_type": "markdown",
      "metadata": {
        "id": "NoFJ1hubbMK0"
      },
      "source": [
        "신경망은 층(layer)을 쌓아서 만든다.\\\n",
        "이 구조에서는 두 가지를 결정해야 한다.\n",
        "\n",
        "- 모델에서 얼마나 많은 층을 사용할 것인가?\n",
        "\n",
        "- 각 층에서 얼마나 많은 은닉 유닛(hidden unit)을 사용할 것인가?\n",
        "\n",
        "이 예제의 입력 데이터는 단어 인덱스의 배열이다.\\\n",
        "예측할 레이블은 0 또는 1이다.\\\n",
        "이 문제에 맞는 모델을 구성해보자."
      ]
    },
    {
      "cell_type": "code",
      "metadata": {
        "colab": {
          "base_uri": "https://localhost:8080/"
        },
        "id": "SY3ilnDzbcmY",
        "outputId": "9ba6df82-cf23-42a1-9c7f-9632fb36b949"
      },
      "source": [
        "# 입력 크기는 영화 리뷰 데이터셋에 적용된 어휘 사전의 크기이다.(10,000개의 단어)\n",
        "vocab_size = 10000\n",
        "\n",
        "model = keras.Sequential()\n",
        "model.add(keras.layers.Embedding(vocab_size, 16, input_shape=(None,)))\n",
        "model.add(keras.layers.GlobalAveragePooling1D())\n",
        "model.add(keras.layers.Dense(16, activation='relu'))\n",
        "model.add(keras.layers.Dense(1, activation='sigmoid'))\n",
        "\n",
        "model.summary()"
      ],
      "execution_count": 13,
      "outputs": [
        {
          "output_type": "stream",
          "text": [
            "Model: \"sequential\"\n",
            "_________________________________________________________________\n",
            "Layer (type)                 Output Shape              Param #   \n",
            "=================================================================\n",
            "embedding (Embedding)        (None, None, 16)          160000    \n",
            "_________________________________________________________________\n",
            "global_average_pooling1d (Gl (None, 16)                0         \n",
            "_________________________________________________________________\n",
            "dense (Dense)                (None, 16)                272       \n",
            "_________________________________________________________________\n",
            "dense_1 (Dense)              (None, 1)                 17        \n",
            "=================================================================\n",
            "Total params: 160,289\n",
            "Trainable params: 160,289\n",
            "Non-trainable params: 0\n",
            "_________________________________________________________________\n"
          ],
          "name": "stdout"
        }
      ]
    },
    {
      "cell_type": "markdown",
      "metadata": {
        "id": "V03-kMarb4_G"
      },
      "source": [
        "층을 순서대로 쌓아 분류기(classifier)를 만든다.\n",
        "\n",
        "1. 첫 번째 층은 Embedding 층이다. 이 층은 정수로 인코딩된 단어를 입력받고 각 단어 인덱스에 해당하는 임베딩 벡터를 찾는다. 이 벡터는 모델이 훈련되면서 학습된다. 이 벡터는 출력 배열에 새로운 차원으로 추가된다. 최종 차원은 (batch, sequence, embedding)이 된다.\n",
        "\n",
        "2. 그 다음 GlobalAveragePooling1D 층은 sequence 차원에 대해 평균을 계산하여 각 샘플에 대해 고정된 길이의 출력 벡터를 반환한다. 이는 길이가 다른 입력을 다루는 가장 간단한 방법이다.\n",
        "\n",
        "3. 이 고정 길이의 출력 벡터는 16개의 은닉 유닉을 가진 완전 연결(fully-connected) 층(Dense)을 거친다.\n",
        "\n",
        "4. 마지막 층은 하나의 출력 노드(node)를 가진 완전 연결 층이다. sigmoid 활성화 함수를 사용하여 0과 1 사이의 실수를 출력한다. 이 값은 확률 또는 신뢰도를 나타낸다."
      ]
    },
    {
      "cell_type": "markdown",
      "metadata": {
        "id": "D14lWksGd_rg"
      },
      "source": [
        "위 모델에는 입력과 출력 사이에 두 개의 중간 또는 \"은닉\" 층이 있다.\\\n",
        "출력(유닛 또는 노드, 뉴런)의 개수는 층이 가진 표현 공간(representational space)의 차원이 된다.\\\n",
        "이는 내부 표현을 학습할 때 허용되는 네트워크 자유도의 양과 동일하다.\n",
        "\n",
        "모델에 많은 은닉 유닛(고차원의 표현 공간)과 층이 있다면 네트워크는 더 복잡한 표현을 학습할 수 있다.\\\n",
        "하지만 네트워크의 계산 비용이 많이 들고 원치않는 패턴을 학습할 수도 있다.\\\n",
        "이런 표현은 훈련 데이터의 성능을 향상시키지만 테스트 데이터에서는 그렇지 못 한다.\\\n",
        "이를 과대적합(overfitting)이라고 부른다."
      ]
    },
    {
      "cell_type": "markdown",
      "metadata": {
        "id": "wHvrPa6SeiH_"
      },
      "source": [
        "모델이 훈련하려면 손실 함수(loss function)와 옵티마이저(optimizer)가 필요하다.\\\n",
        "이 예제는 이진 분류 문제이고(긍정 또는 부정) 모델이 확률을 출력하므로 binary_crossentropy 손실 함수를 사용하겠다.\n",
        "\n",
        "이제 모델이 사용할 옵티마이저와 손실 함수를 설정해보자."
      ]
    },
    {
      "cell_type": "code",
      "metadata": {
        "id": "ajqHKVddfHD5"
      },
      "source": [
        "model.compile(optimizer='adam',\n",
        "              loss='binary_crossentropy',\n",
        "              metrics=['accuracy'])"
      ],
      "execution_count": 14,
      "outputs": []
    },
    {
      "cell_type": "markdown",
      "metadata": {
        "id": "2F2A3BXyfPpz"
      },
      "source": [
        "모델을 훈련할 때 모델이 만난 적 없는 데이터에서 정확도를 확인하는 것이 좋다.\\\n",
        "원본 훈련 데이터에서 10,000개의 셈플을 떼어내어 검증 세트(validation set)를 만들자."
      ]
    },
    {
      "cell_type": "code",
      "metadata": {
        "id": "hop9iVgNfalr"
      },
      "source": [
        "x_val = train_data[:10000]\n",
        "partial_x_train = train_data[10000:]\n",
        "\n",
        "y_val = train_labels[:10000]\n",
        "partial_y_train = train_labels[10000:]"
      ],
      "execution_count": 15,
      "outputs": []
    },
    {
      "cell_type": "markdown",
      "metadata": {
        "id": "2MtLAJ3pfxIY"
      },
      "source": [
        "이 모델을 512개의 샘플로 이뤄진 미니배치(mini-batch)에서 40번의 에포크(epoch) 동안 훈련한다.\\\n",
        "x_train과 y_train 텐서에 있는 모든 샘플에 대해 40번 반복한다는 뜻이다.\\\n",
        "훈련하는 동안 10,000개의 검증 세트에서 모델의 손실과 정확도를 모니터링한다."
      ]
    },
    {
      "cell_type": "code",
      "metadata": {
        "colab": {
          "base_uri": "https://localhost:8080/"
        },
        "id": "tKvnNpLXgAch",
        "outputId": "74158dbf-f627-4c43-f5b0-0faaa66cb568"
      },
      "source": [
        "history = model.fit(partial_x_train,\n",
        "                    partial_y_train,\n",
        "                    epochs=40,\n",
        "                    batch_size=512,\n",
        "                    validation_data=(x_val, y_val),\n",
        "                    verbose=1)"
      ],
      "execution_count": 16,
      "outputs": [
        {
          "output_type": "stream",
          "text": [
            "Epoch 1/40\n",
            "30/30 [==============================] - 2s 27ms/step - loss: 0.6927 - accuracy: 0.5372 - val_loss: 0.6898 - val_accuracy: 0.6750\n",
            "Epoch 2/40\n",
            "30/30 [==============================] - 1s 20ms/step - loss: 0.6878 - accuracy: 0.7232 - val_loss: 0.6815 - val_accuracy: 0.7448\n",
            "Epoch 3/40\n",
            "30/30 [==============================] - 1s 19ms/step - loss: 0.6765 - accuracy: 0.7647 - val_loss: 0.6650 - val_accuracy: 0.7501\n",
            "Epoch 4/40\n",
            "30/30 [==============================] - 1s 19ms/step - loss: 0.6559 - accuracy: 0.7801 - val_loss: 0.6386 - val_accuracy: 0.7580\n",
            "Epoch 5/40\n",
            "30/30 [==============================] - 1s 19ms/step - loss: 0.6250 - accuracy: 0.7766 - val_loss: 0.6020 - val_accuracy: 0.7794\n",
            "Epoch 6/40\n",
            "30/30 [==============================] - 1s 19ms/step - loss: 0.5828 - accuracy: 0.8097 - val_loss: 0.5586 - val_accuracy: 0.8035\n",
            "Epoch 7/40\n",
            "30/30 [==============================] - 1s 20ms/step - loss: 0.5319 - accuracy: 0.8281 - val_loss: 0.5131 - val_accuracy: 0.8184\n",
            "Epoch 8/40\n",
            "30/30 [==============================] - 1s 19ms/step - loss: 0.4808 - accuracy: 0.8490 - val_loss: 0.4705 - val_accuracy: 0.8372\n",
            "Epoch 9/40\n",
            "30/30 [==============================] - 1s 21ms/step - loss: 0.4359 - accuracy: 0.8636 - val_loss: 0.4336 - val_accuracy: 0.8433\n",
            "Epoch 10/40\n",
            "30/30 [==============================] - 1s 20ms/step - loss: 0.3953 - accuracy: 0.8741 - val_loss: 0.4028 - val_accuracy: 0.8542\n",
            "Epoch 11/40\n",
            "30/30 [==============================] - 1s 20ms/step - loss: 0.3622 - accuracy: 0.8832 - val_loss: 0.3782 - val_accuracy: 0.8608\n",
            "Epoch 12/40\n",
            "30/30 [==============================] - 1s 20ms/step - loss: 0.3328 - accuracy: 0.8921 - val_loss: 0.3607 - val_accuracy: 0.8642\n",
            "Epoch 13/40\n",
            "30/30 [==============================] - 1s 21ms/step - loss: 0.3080 - accuracy: 0.8967 - val_loss: 0.3435 - val_accuracy: 0.8703\n",
            "Epoch 14/40\n",
            "30/30 [==============================] - 1s 20ms/step - loss: 0.2894 - accuracy: 0.9011 - val_loss: 0.3315 - val_accuracy: 0.8727\n",
            "Epoch 15/40\n",
            "30/30 [==============================] - 1s 20ms/step - loss: 0.2778 - accuracy: 0.9024 - val_loss: 0.3214 - val_accuracy: 0.8760\n",
            "Epoch 16/40\n",
            "30/30 [==============================] - 1s 20ms/step - loss: 0.2581 - accuracy: 0.9127 - val_loss: 0.3137 - val_accuracy: 0.8753\n",
            "Epoch 17/40\n",
            "30/30 [==============================] - 1s 20ms/step - loss: 0.2410 - accuracy: 0.9166 - val_loss: 0.3079 - val_accuracy: 0.8779\n",
            "Epoch 18/40\n",
            "30/30 [==============================] - 1s 20ms/step - loss: 0.2255 - accuracy: 0.9250 - val_loss: 0.3014 - val_accuracy: 0.8794\n",
            "Epoch 19/40\n",
            "30/30 [==============================] - 1s 19ms/step - loss: 0.2150 - accuracy: 0.9271 - val_loss: 0.2967 - val_accuracy: 0.8819\n",
            "Epoch 20/40\n",
            "30/30 [==============================] - 1s 21ms/step - loss: 0.2070 - accuracy: 0.9281 - val_loss: 0.2934 - val_accuracy: 0.8835\n",
            "Epoch 21/40\n",
            "30/30 [==============================] - 1s 20ms/step - loss: 0.1973 - accuracy: 0.9347 - val_loss: 0.2904 - val_accuracy: 0.8841\n",
            "Epoch 22/40\n",
            "30/30 [==============================] - 1s 19ms/step - loss: 0.1859 - accuracy: 0.9403 - val_loss: 0.2884 - val_accuracy: 0.8846\n",
            "Epoch 23/40\n",
            "30/30 [==============================] - 1s 20ms/step - loss: 0.1793 - accuracy: 0.9400 - val_loss: 0.2870 - val_accuracy: 0.8852\n",
            "Epoch 24/40\n",
            "30/30 [==============================] - 1s 19ms/step - loss: 0.1686 - accuracy: 0.9476 - val_loss: 0.2861 - val_accuracy: 0.8849\n",
            "Epoch 25/40\n",
            "30/30 [==============================] - 1s 20ms/step - loss: 0.1672 - accuracy: 0.9501 - val_loss: 0.2857 - val_accuracy: 0.8849\n",
            "Epoch 26/40\n",
            "30/30 [==============================] - 1s 20ms/step - loss: 0.1595 - accuracy: 0.9524 - val_loss: 0.2850 - val_accuracy: 0.8861\n",
            "Epoch 27/40\n",
            "30/30 [==============================] - 1s 19ms/step - loss: 0.1492 - accuracy: 0.9555 - val_loss: 0.2858 - val_accuracy: 0.8860\n",
            "Epoch 28/40\n",
            "30/30 [==============================] - 1s 19ms/step - loss: 0.1478 - accuracy: 0.9554 - val_loss: 0.2865 - val_accuracy: 0.8867\n",
            "Epoch 29/40\n",
            "30/30 [==============================] - 1s 19ms/step - loss: 0.1402 - accuracy: 0.9574 - val_loss: 0.2871 - val_accuracy: 0.8863\n",
            "Epoch 30/40\n",
            "30/30 [==============================] - 1s 19ms/step - loss: 0.1305 - accuracy: 0.9611 - val_loss: 0.2886 - val_accuracy: 0.8865\n",
            "Epoch 31/40\n",
            "30/30 [==============================] - 1s 20ms/step - loss: 0.1280 - accuracy: 0.9626 - val_loss: 0.2901 - val_accuracy: 0.8864\n",
            "Epoch 32/40\n",
            "30/30 [==============================] - 1s 20ms/step - loss: 0.1196 - accuracy: 0.9666 - val_loss: 0.2926 - val_accuracy: 0.8862\n",
            "Epoch 33/40\n",
            "30/30 [==============================] - 1s 21ms/step - loss: 0.1149 - accuracy: 0.9678 - val_loss: 0.2956 - val_accuracy: 0.8844\n",
            "Epoch 34/40\n",
            "30/30 [==============================] - 1s 20ms/step - loss: 0.1126 - accuracy: 0.9682 - val_loss: 0.2964 - val_accuracy: 0.8842\n",
            "Epoch 35/40\n",
            "30/30 [==============================] - 1s 21ms/step - loss: 0.1102 - accuracy: 0.9686 - val_loss: 0.2988 - val_accuracy: 0.8843\n",
            "Epoch 36/40\n",
            "30/30 [==============================] - 1s 20ms/step - loss: 0.1068 - accuracy: 0.9699 - val_loss: 0.3034 - val_accuracy: 0.8825\n",
            "Epoch 37/40\n",
            "30/30 [==============================] - 1s 19ms/step - loss: 0.0966 - accuracy: 0.9756 - val_loss: 0.3049 - val_accuracy: 0.8832\n",
            "Epoch 38/40\n",
            "30/30 [==============================] - 1s 21ms/step - loss: 0.0964 - accuracy: 0.9753 - val_loss: 0.3112 - val_accuracy: 0.8822\n",
            "Epoch 39/40\n",
            "30/30 [==============================] - 1s 20ms/step - loss: 0.0935 - accuracy: 0.9745 - val_loss: 0.3107 - val_accuracy: 0.8829\n",
            "Epoch 40/40\n",
            "30/30 [==============================] - 1s 20ms/step - loss: 0.0893 - accuracy: 0.9782 - val_loss: 0.3139 - val_accuracy: 0.8829\n"
          ],
          "name": "stdout"
        }
      ]
    },
    {
      "cell_type": "markdown",
      "metadata": {
        "id": "ZXPCrlxxgWNw"
      },
      "source": [
        "모델의 성능을 확인해보자.\\\n",
        "두 개의 값이 반환된다.\\\n",
        "손실(오차를 나타내는 숫자이므로 낮을 수록 좋다)과 정확도이다."
      ]
    },
    {
      "cell_type": "code",
      "metadata": {
        "colab": {
          "base_uri": "https://localhost:8080/"
        },
        "id": "40BiJnF7gcrh",
        "outputId": "8f5010dd-c511-4832-aa4c-e3328b72ad40"
      },
      "source": [
        "results = model.evaluate(test_data, test_labels, verbose=2)\n",
        "print(results)"
      ],
      "execution_count": 17,
      "outputs": [
        {
          "output_type": "stream",
          "text": [
            "782/782 - 1s - loss: 0.3345 - accuracy: 0.8720\n",
            "[0.3345036208629608, 0.8719599843025208]\n"
          ],
          "name": "stdout"
        }
      ]
    },
    {
      "cell_type": "markdown",
      "metadata": {
        "id": "L3_M3fEegpdT"
      },
      "source": [
        "본 예제는 매우 단순한 방식을 사용하므로 87%의 정확도를 달성했다.\\\n",
        "고급 방법을 사용한 모델은 95%에 가까운 정확도를 얻는다."
      ]
    },
    {
      "cell_type": "markdown",
      "metadata": {
        "id": "RRD4wVo8gyQQ"
      },
      "source": [
        "model.fit()은 History 객체를 반환한다.\\\n",
        "여기에는 훈련하는 동안 일어난 모든 정보가 담긴 딕셔너리(dictionary)가 들어있다."
      ]
    },
    {
      "cell_type": "code",
      "metadata": {
        "colab": {
          "base_uri": "https://localhost:8080/"
        },
        "id": "ZqngvwN0g5RW",
        "outputId": "4d3f0c46-51f0-49c2-e510-26339de662bd"
      },
      "source": [
        "history_dict = history.history\n",
        "history_dict.keys()"
      ],
      "execution_count": 18,
      "outputs": [
        {
          "output_type": "execute_result",
          "data": {
            "text/plain": [
              "dict_keys(['loss', 'accuracy', 'val_loss', 'val_accuracy'])"
            ]
          },
          "metadata": {
            "tags": []
          },
          "execution_count": 18
        }
      ]
    },
    {
      "cell_type": "markdown",
      "metadata": {
        "id": "qNS0URypg-dr"
      },
      "source": [
        "네 개의 항목이 있다.\\\n",
        "훈련과 검증 단계에서 모니터링하는 지표들이다.\\\n",
        "훈련 손실과 검증 손실을 그래프로 그려보고, 훈련 정확도와 검증 정확도도 그래프로 그려서 비교해보자."
      ]
    },
    {
      "cell_type": "code",
      "metadata": {
        "colab": {
          "base_uri": "https://localhost:8080/",
          "height": 295
        },
        "id": "DFl95wywhHPo",
        "outputId": "d5c10fdb-29cf-416d-d3aa-1954fb10311c"
      },
      "source": [
        "import matplotlib.pyplot as plt\n",
        "\n",
        "acc = history_dict['accuracy']\n",
        "val_acc = history_dict['val_accuracy']\n",
        "loss = history_dict['loss']\n",
        "val_loss = history_dict['val_loss']\n",
        "\n",
        "epochs = range(1, len(acc) + 1)\n",
        "\n",
        "# \"bo\"는 '파란색 점'이다.\n",
        "plt.plot(epochs, loss, 'bo', label='Training loss')\n",
        "# b는 '파란 실선'이다.\n",
        "plt.plot(epochs, val_loss, 'b', label='Validation loss')\n",
        "plt.title('Training and validation loss')\n",
        "plt.xlabel('Epochs')\n",
        "plt.ylabel('Loss')\n",
        "plt.legend()\n",
        "\n",
        "plt.show()"
      ],
      "execution_count": 19,
      "outputs": [
        {
          "output_type": "display_data",
          "data": {
            "image/png": "[encoded data removed]",
            "text/plain": [
              "<Figure size 432x288 with 1 Axes>"
            ]
          },
          "metadata": {
            "tags": [],
            "needs_background": "light"
          }
        }
      ]
    },
    {
      "cell_type": "code",
      "metadata": {
        "colab": {
          "base_uri": "https://localhost:8080/",
          "height": 295
        },
        "id": "6tGQQiuOh0uD",
        "outputId": "8f4dcdeb-b7b9-4061-972f-02aff9163044"
      },
      "source": [
        "plt.clf()   # 그림을 초기화한다.\n",
        "\n",
        "plt.plot(epochs, acc, 'bo', label='Training acc')\n",
        "plt.plot(epochs, val_acc, 'b', label='Validation acc')\n",
        "plt.title('Training and validation accuracy')\n",
        "plt.xlabel('Epochs')\n",
        "plt.ylabel('Accuracy')\n",
        "plt.legend()\n",
        "\n",
        "plt.show()"
      ],
      "execution_count": 20,
      "outputs": [
        {
          "output_type": "display_data",
          "data": {
            "image/png": "[encoded data removed]",
            "text/plain": [
              "<Figure size 432x288 with 1 Axes>"
            ]
          },
          "metadata": {
            "tags": [],
            "needs_background": "light"
          }
        }
      ]
    },
    {
      "cell_type": "markdown",
      "metadata": {
        "id": "ATRU1mpEiBxV"
      },
      "source": [
        "이 그래프에서 점선은 훈련 손실과 훈련 정확도를 나타낸다.\\\n",
        "실선은 검증 손실과 검증 정확도이다.\n",
        "\n",
        "훈련 손실은 에포크마다 감소하고 훈련 정확도는 증가한다는 것을 주목하자.\\\n",
        "경사 하강법 최적화를 사용할 때 볼 수 있는 현상이다.\\\n",
        "매 반복마다 최적화 대상의 값을 최소화한다.\n",
        "\n",
        "하지만 검증 손실과 검증 정확도에서는 그러지 못 한다.\\\n",
        "약 20번째 에포크 이후가 최적점인 것 같다.\\\n",
        "이는 과대적합 때문이다.\\\n",
        "이전에 본 적 없는 데이터보다 훈련 데이터에서 더 잘 동작한다.\\\n",
        "이 지점부터는 모델이 과도하게 최적화되어 테스트 데이터에서 일반화되기 어려운 훈련 데이터의 특정 표현을 학습한다.\n",
        "\n",
        "여기서는 과대적합을 막기 위해 단순히 20번째 에포크 근처에서 훈련을 멈출 수 있다."
      ]
    }
  ]
}